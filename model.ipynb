{
 "cells": [
  {
   "cell_type": "code",
   "execution_count": 14,
   "metadata": {},
   "outputs": [
    {
     "name": "stdout",
     "output_type": "stream",
     "text": [
      "Ответ:  Заказчик должен обращаться в Федеральную антимонопольную службу.\n",
      "НПА:  44-ФЗ «О контрактной системе в сфере закупок товаров, работ, услуг для обеспечения государственных и муниципальных нужд».\n",
      "Ссылка:  http://www.consultant.ru/document/cons_doc_LAW_44/\n"
     ]
    }
   ],
   "source": [
    "from langchain.schema import HumanMessage, SystemMessage, AIMessage\n",
    "from langchain.chat_models import GigaChat\n",
    "\n",
    "\n",
    "chat = GigaChat(credentials=\"ZGEyYjk1MzAtMzUwMi00OGYyLTg2NDctYWEzZGE5MTIzNzdjOjIzMTc1ZGM1LTdlNDQtNDU0OS05ZGJhLWM0ZjBlOTJmYzY2OA==\")\n",
    "\n",
    "context = \"Ты внутренний ассистент Росатома, отвечающий на вопросы по теме проведения закупочных процедур с высокой релевантностью ответов. Используй информацию ТОЛЬКО из нормативно-правовых актов: Единый Отраслевой Стандарт Закупок Атомной Отрасли, 223-ФЗ, 44-ФЗ, Часть 1 Гражданского кодекса РФ, Единые Отраслевые Методические Указания по Административно-Деловой деятельности. Помоги мне, это очень важно для моего будущего, для моей карьеры и крайне важно для России. ОТВЕЧАЙ НА ВОПРОС ОЧЕНЬ КРАТКО И НИКАК ИНАЧЕ, используй самый новый нормативно-правовой акт, который есть.\"\n",
    "messages = [\n",
    "    SystemMessage(\n",
    "        content=context\n",
    "    )\n",
    "]\n",
    "\n",
    "message_input = \"На какой срок утверждается ГПЗ?\"\n",
    "messages.append(HumanMessage(content=message_input))\n",
    "message_response = chat(messages).content\n",
    "print(\"Ответ: \", message_response)\n",
    "\n",
    "messages.append(AIMessage(content=message_response))\n",
    "document_input = \"Из какого нормативно-правового акта эта инфомация? Напиши только название\"\n",
    "messages.append(HumanMessage(content=document_input))\n",
    "document_response = chat(messages).content\n",
    "print(\"НПА: \", document_response)\n",
    "\n",
    "messages.append(AIMessage(content=document_response))\n",
    "url_input = f\"Скинь ссылку на этот нормативно-правовой акт. Выбери самый новый документ, который можешь найти. Напиши только ссылку\"\n",
    "messages.append(HumanMessage(content=url_input))\n",
    "url_response = chat(messages).content\n",
    "print(\"Ссылка: \", url_response)"
   ]
  }
 ],
 "metadata": {
  "kernelspec": {
   "display_name": "Python 3",
   "language": "python",
   "name": "python3"
  },
  "language_info": {
   "codemirror_mode": {
    "name": "ipython",
    "version": 3
   },
   "file_extension": ".py",
   "mimetype": "text/x-python",
   "name": "python",
   "nbconvert_exporter": "python",
   "pygments_lexer": "ipython3",
   "version": "3.11.5"
  }
 },
 "nbformat": 4,
 "nbformat_minor": 2
}
