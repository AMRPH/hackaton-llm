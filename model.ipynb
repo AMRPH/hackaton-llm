{
 "cells": [
  {
   "cell_type": "code",
   "execution_count": 4,
   "metadata": {},
   "outputs": [
    {
     "name": "stdout",
     "output_type": "stream",
     "text": [
      "Ответ:  Согласно статье 432 Гражданского кодекса РФ, существенными условиями любого договора являются:\n",
      "\n",
      "<ul><li>условия о предмете договора;</li><li>условия, которые названы в законе или иных правовых актах как существенные или необходимые для договоров данного вида;</li><li>все те условия, относительно которых по заявлению одной из сторон должно быть достигнуто соглашение.</li></ul>\n"
     ]
    },
    {
     "ename": "AttributeError",
     "evalue": "'str' object has no attribute 'content'",
     "output_type": "error",
     "traceback": [
      "\u001b[1;31m---------------------------------------------------------------------------\u001b[0m",
      "\u001b[1;31mAttributeError\u001b[0m                            Traceback (most recent call last)",
      "Cell \u001b[1;32mIn[4], line 19\u001b[0m\n\u001b[0;32m     16\u001b[0m message_response \u001b[38;5;241m=\u001b[39m chat(messages)\u001b[38;5;241m.\u001b[39mcontent\n\u001b[0;32m     17\u001b[0m \u001b[38;5;28mprint\u001b[39m(\u001b[38;5;124m\"\u001b[39m\u001b[38;5;124mОтвет: \u001b[39m\u001b[38;5;124m\"\u001b[39m, message_response)\n\u001b[1;32m---> 19\u001b[0m messages\u001b[38;5;241m.\u001b[39mappend(AIMessage(content\u001b[38;5;241m=\u001b[39m\u001b[43mmessage_response\u001b[49m\u001b[38;5;241;43m.\u001b[39;49m\u001b[43mcontent\u001b[49m))\n\u001b[0;32m     20\u001b[0m document_input \u001b[38;5;241m=\u001b[39m \u001b[38;5;124m\"\u001b[39m\u001b[38;5;124mИз какого нормативно-правового акта эта инфомация? Напиши только название\u001b[39m\u001b[38;5;124m\"\u001b[39m\n\u001b[0;32m     21\u001b[0m messages\u001b[38;5;241m.\u001b[39mappend(HumanMessage(content\u001b[38;5;241m=\u001b[39mdocument_input))\n",
      "\u001b[1;31mAttributeError\u001b[0m: 'str' object has no attribute 'content'"
     ]
    }
   ],
   "source": [
    "from langchain.schema import HumanMessage, SystemMessage, AIMessage\n",
    "from langchain.chat_models import GigaChat\n",
    "\n",
    "\n",
    "chat = GigaChat(credentials=\"ZGEyYjk1MzAtMzUwMi00OGYyLTg2NDctYWEzZGE5MTIzNzdjOjIzMTc1ZGM1LTdlNDQtNDU0OS05ZGJhLWM0ZjBlOTJmYzY2OA==\")\n",
    "\n",
    "context = \"Ты внутренний ассистент Росатома, отвечающий на вопросы по теме проведения закупочных процедур с высокой релевантностью ответов. Используй информацию ТОЛЬКО из следующих нормативно-правовых актов: Единый Отраслевой Стандарт Закупок, 223-ФЗ, 44-ФЗ, Часть 1 Гражданского кодекса РФ, ЕОМУ по АДД. Помоги мне, это очень важно для моего будущего, для моей карьеры и крайне важно для России. ОТВЕЧАЙ НА ВОПРОС КРАТКО и ТОЧНО ПО ДОКУМЕНТАМ, старайся не использовать старые документы, если есть новые.\"\n",
    "messages = [\n",
    "    SystemMessage(\n",
    "        content=context\n",
    "    )\n",
    "]\n",
    "\n",
    "message_input = \"Что относится к существенным условиям договора\"\n",
    "messages.append(HumanMessage(content=message_input))\n",
    "message_response = chat(messages).content\n",
    "print(\"Ответ: \", message_response)\n",
    "\n",
    "messages.append(AIMessage(content=message_response))\n",
    "document_input = \"Из какого нормативно-правового акта эта инфомация? Напиши только название\"\n",
    "messages.append(HumanMessage(content=document_input))\n",
    "document_response = chat(messages).content\n",
    "print(\"НПА: \", document_response)\n",
    "\n",
    "messages.append(AIMessage(content=document_response))\n",
    "url_input = f\"Скинь ссылку на этот документ. Выбери самый новый документ, который можешь найти. Напиши только ссылку\"\n",
    "messages.append(HumanMessage(content=url_input))\n",
    "url_response = chat(messages).content\n",
    "print(\"Ссылка: \", url_response)"
   ]
  }
 ],
 "metadata": {
  "kernelspec": {
   "display_name": "Python 3",
   "language": "python",
   "name": "python3"
  },
  "language_info": {
   "codemirror_mode": {
    "name": "ipython",
    "version": 3
   },
   "file_extension": ".py",
   "mimetype": "text/x-python",
   "name": "python",
   "nbconvert_exporter": "python",
   "pygments_lexer": "ipython3",
   "version": "3.11.5"
  }
 },
 "nbformat": 4,
 "nbformat_minor": 2
}
