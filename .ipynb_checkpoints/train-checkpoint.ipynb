{
 "cells": [
  {
   "cell_type": "code",
   "execution_count": 34,
   "metadata": {},
   "outputs": [
    {
     "name": "stdout",
     "output_type": "stream",
     "text": [
      "Bot:  Согласно ч. 1 ст. 3 Федерального закона от 21.07.2015 N 223-ФЗ \"О закупках товаров, работ, услуг отдельными видами юридических лиц\", руководитель организации вправе принять решение о закупке у единственного поставщика при условии, что стоимость закупки не превышает 100 миллионов рублей.\n"
     ]
    }
   ],
   "source": [
    "from langchain.schema import HumanMessage, SystemMessage\n",
    "from langchain.chat_models import GigaChat\n",
    "\n",
    "\n",
    "chat = GigaChat(credentials=\"ZGEyYjk1MzAtMzUwMi00OGYyLTg2NDctYWEzZGE5MTIzNzdjOjIzMTc1ZGM1LTdlNDQtNDU0OS05ZGJhLWM0ZjBlOTJmYzY2OA==\")\n",
    "\n",
    "con = \"Ты внутренний ассистент Росатома, отвечающий на вопросы по теме проведения закупочных процедур с высокой релевантностью ответов. Используй только реальные нормативно-правовые акты и ссылки на них. Используй информацию из ЕОСЗ, 223-ФЗ, ЕОСЗ. Часть 1 ГК РФ, ЕОМУ по АДД, ФЗ-44. Отвечай максимально кратко. В конце ВСЕГДА указывай, из каких нормативно-правовых актов ты взял информацию и если есть, оставляй реальную ссылку на нормативно-правовой акт.\"\n",
    "\n",
    "messages = [\n",
    "    SystemMessage(\n",
    "        content=con\n",
    "    )\n",
    "]\n",
    "\n",
    "user_input = \"До какой стоимость закупки вруководитель организации враве принять решение о закупке у ЕП?\"\n",
    "messages.append(HumanMessage(content=user_input))\n",
    "res = chat(messages)\n",
    "messages.append(res)\n",
    "print(\"Bot: \", res.content)"
   ]
  }
 ],
 "metadata": {
  "kernelspec": {
   "display_name": "Python 3 (ipykernel)",
   "language": "python",
   "name": "python3"
  },
  "language_info": {
   "codemirror_mode": {
    "name": "ipython",
    "version": 3
   },
   "file_extension": ".py",
   "mimetype": "text/x-python",
   "name": "python",
   "nbconvert_exporter": "python",
   "pygments_lexer": "ipython3",
   "version": "3.10.12"
  }
 },
 "nbformat": 4,
 "nbformat_minor": 2
}
